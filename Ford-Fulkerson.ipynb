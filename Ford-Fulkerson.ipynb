{
 "cells": [
  {
   "cell_type": "markdown",
   "id": "13529539",
   "metadata": {},
   "source": [
    "# Ideias gerais\n",
    "<li>Rodar uma bfs e encontrar os caminhos até o nó de destino</li>\n",
    "<li>identificar a arestra com menor valor \"gargalo\"</li> \n",
    "<li>subtrair o caminho com o valor da arestra \"gargalo\" </li>\n"
   ]
  },
  {
   "cell_type": "code",
   "execution_count": 2,
   "id": "ea9749d7",
   "metadata": {},
   "outputs": [],
   "source": [
    "from collections import defaultdict\n",
    "\n",
    "class Grafo:\n",
    "    def __init__(self, grafo):\n",
    "        self.grafo = grafo\n",
    "        self.V = len(grafo)\n",
    "\n",
    "    def BFS(self, origem, destino, pais):\n",
    "        visitado = [False] * (self.V)\n",
    "        fila = []\n",
    "        fila.append(origem)\n",
    "        visitado[origem] = True\n",
    "\n",
    "        while fila:\n",
    "            u = fila.pop(0)\n",
    "            for indice, valor in enumerate(self.grafo[u]):\n",
    "                if visitado[indice] == False and valor > 0:\n",
    "                    fila.append(indice)\n",
    "                    visitado[indice] = True\n",
    "                    pais[indice] = u\n",
    "\n",
    "        return True if visitado[destino] else False\n",
    "\n",
    "    def FordFulkerson(self, origem, destino):\n",
    "        pais = [-1] * (self.V)\n",
    "        fluxo_maximo = 0\n",
    "\n",
    "        while self.BFS(origem, destino, pais):\n",
    "            fluxo_caminho = float(\"Inf\")\n",
    "            s = destino\n",
    "            while s != origem:\n",
    "                fluxo_caminho = min(fluxo_caminho, self.grafo[pais[s]][s])\n",
    "                s = pais[s]\n",
    "\n",
    "            fluxo_maximo += fluxo_caminho\n",
    "\n",
    "            v = destino\n",
    "            while v != origem:\n",
    "                u = pais[v]\n",
    "                self.grafo[u][v] -= fluxo_caminho\n",
    "                self.grafo[v][u] += fluxo_caminho\n",
    "                v = pais[v]\n",
    "\n",
    "        return fluxo_maximo"
   ]
  },
  {
   "cell_type": "code",
   "execution_count": 4,
   "id": "1d2336e2",
   "metadata": {},
   "outputs": [
    {
     "name": "stdout",
     "output_type": "stream",
     "text": [
      "O fluxo máximo possível é: 23\n"
     ]
    }
   ],
   "source": [
    "# Exemplo de uso\n",
    "grafo = [[0, 16, 13, 0, 0, 0],\n",
    "         [0, 0, 10, 12, 0, 0],\n",
    "         [0, 4, 0, 0, 14, 0],\n",
    "         [0, 0, 9, 0, 0, 20],\n",
    "         [0, 0, 0, 7, 0, 4],\n",
    "         [0, 0, 0, 0, 0, 0]]\n",
    "\n",
    "g = Grafo(grafo)\n",
    "\n",
    "origem = 0\n",
    "destino = 5\n",
    "\n",
    "fluxo_maximo = g.FordFulkerson(origem, destino)\n",
    "\n",
    "print(\"O fluxo máximo possível é:\", fluxo_maximo)"
   ]
  },
  {
   "cell_type": "code",
   "execution_count": null,
   "id": "eea389b9",
   "metadata": {},
   "outputs": [],
   "source": []
  }
 ],
 "metadata": {
  "kernelspec": {
   "display_name": "Python 3",
   "language": "python",
   "name": "python3"
  },
  "language_info": {
   "codemirror_mode": {
    "name": "ipython",
    "version": 3
   },
   "file_extension": ".py",
   "mimetype": "text/x-python",
   "name": "python",
   "nbconvert_exporter": "python",
   "pygments_lexer": "ipython3",
   "version": "3.8.10"
  }
 },
 "nbformat": 4,
 "nbformat_minor": 5
}
